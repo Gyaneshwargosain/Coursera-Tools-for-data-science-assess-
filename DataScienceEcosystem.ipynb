{
 "cells": [
  {
   "cell_type": "markdown",
   "id": "d7c71ad4-f8ec-489e-8389-684ab43c1674",
   "metadata": {},
   "source": [
    "# Data Science Tools and Ecosystem"
   ]
  },
  {
   "cell_type": "markdown",
   "id": "a3179774-de8d-4b78-80e1-1bbc71f2b299",
   "metadata": {},
   "source": [
    "#### In this notebook, Data Science Tools and Ecosystem are summarized:"
   ]
  },
  {
   "cell_type": "markdown",
   "id": "c24205f9-1966-4635-8831-b495044a0865",
   "metadata": {},
   "source": [
    "Objectives:\n",
    "* List of popular languages for Data Science\n",
    "* List of commonly used libraries used by Data Scientists\n",
    "* List of development environment open source tools used in data science\n",
    "* A few examples of evaluating arithmetic expressions in Python"
   ]
  },
  {
   "cell_type": "markdown",
   "id": "c097c7df-43dc-4f41-ad0e-3fc1437d0f43",
   "metadata": {},
   "source": [
    "Some of the popular languages that Data Scientists use are:\n",
    "1. Python\n",
    "2. R Statistical Language\n",
    "3. Julia\n",
    "4. Java\n",
    "5. C++/C\n",
    "6. Swift\n",
    "7. Go\n",
    "8. SQL\n",
    "9. MATLAB"
   ]
  },
  {
   "cell_type": "markdown",
   "id": "88e03389-4a33-49bd-a9f6-299a8a4814fb",
   "metadata": {},
   "source": [
    "Some of the commonly used libraries used by Data Scientists include:\n",
    "\n",
    "1. Numpy\n",
    "2. Pandas\n",
    "3. Matplot\n",
    "4. Scikitlearn\n",
    "5. Tensorflow\n",
    "6. GGplot\n",
    "7. Plotly\n",
    "8. Caret\n",
    "9. dplyr"
   ]
  },
  {
   "cell_type": "markdown",
   "id": "dc9a4412-79b5-4f69-926e-d4503d3bce76",
   "metadata": {},
   "source": [
    "Three development environment open source tools used in data science are:\n",
    "\n",
    "|Data Science Tools|\n",
    "|---|\n",
    "|Jupyter Notebook|\n",
    "|R Studio|\n",
    "|Spyder|\n",
    "|Visual Studio Code|"
   ]
  },
  {
   "cell_type": "code",
   "execution_count": null,
   "id": "9aa7f214-fc90-4f73-a37e-73dc626e0f92",
   "metadata": {},
   "outputs": [],
   "source": []
  },
  {
   "cell_type": "markdown",
   "id": "5799ee2e-1503-4220-9835-715d7a577ce9",
   "metadata": {},
   "source": [
    "### Below are a few examples of evaluating arithmetic expressions in Python"
   ]
  },
  {
   "cell_type": "code",
   "execution_count": 1,
   "id": "8fcb718f-7552-4aeb-932b-b006618ec99a",
   "metadata": {
    "tags": []
   },
   "outputs": [
    {
     "data": {
      "text/plain": [
       "17"
      ]
     },
     "execution_count": 1,
     "metadata": {},
     "output_type": "execute_result"
    }
   ],
   "source": [
    "# This a simple arithmetic expression to mutiply then add integers\n",
    "\n",
    "(3*4)+5"
   ]
  },
  {
   "cell_type": "code",
   "execution_count": 2,
   "id": "2235c2f4-e018-469e-8fc9-1a69a2cb64fe",
   "metadata": {
    "tags": []
   },
   "outputs": [
    {
     "data": {
      "text/plain": [
       "3.3333333333333335"
      ]
     },
     "execution_count": 2,
     "metadata": {},
     "output_type": "execute_result"
    }
   ],
   "source": [
    "# This will convert 200 minutes to hours by diving by 60\n",
    "200/60"
   ]
  },
  {
   "cell_type": "code",
   "execution_count": null,
   "id": "c1dc00fd-3236-415d-829c-59991a98b62b",
   "metadata": {},
   "outputs": [],
   "source": []
  },
  {
   "cell_type": "markdown",
   "id": "fd6c9ed3-620b-40db-a0a6-51925f17fd18",
   "metadata": {},
   "source": [
    "## Author\n",
    "Gyaneshwar Gosain"
   ]
  },
  {
   "cell_type": "code",
   "execution_count": null,
   "id": "b7b6b374-cf26-4c72-8dc4-18f6fc2745ca",
   "metadata": {},
   "outputs": [],
   "source": []
  }
 ],
 "metadata": {
  "kernelspec": {
   "display_name": "Python",
   "language": "python",
   "name": "conda-env-python-py"
  },
  "language_info": {
   "codemirror_mode": {
    "name": "ipython",
    "version": 3
   },
   "file_extension": ".py",
   "mimetype": "text/x-python",
   "name": "python",
   "nbconvert_exporter": "python",
   "pygments_lexer": "ipython3",
   "version": "3.7.12"
  }
 },
 "nbformat": 4,
 "nbformat_minor": 5
}
